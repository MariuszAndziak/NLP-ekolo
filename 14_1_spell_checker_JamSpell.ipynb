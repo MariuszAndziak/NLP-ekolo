{
 "cells": [
  {
   "cell_type": "markdown",
   "metadata": {
    "id": "-dISABSgbT3d"
   },
   "source": [
    "Niniejszy arkusz pokazuje zastosowanie modułu JamSpell w kwestii sprawdzania pisowni.\n",
    "Jamspell umożliwia sprawdzanie pisowni, nie zawiera jednak słownika języka polskiego,\n",
    "dlatego musiałem utworzyć własny słownik (a raczej dwa dla porównania).\n",
    "\n",
    "Jeden ze słowników do tekst z 1000 polskich nowel, jakie są udostępione na stronie CLARIN (https://clarin-pl.eu/dspace/handle/11321/312). Drugi słownik to dump z: 300K losowych zdać z polskich stron (2018 rok), 100K zdań z kanałów RSS z wiadomościami (2020 rok), 300K zdań z innych serwisów informacyjncyh (2018 rok) oraz dump 300K zdań z polskiej Wikipedii z 2021 roku.\n",
    "\n",
    "Każdy z ww. tekstów został uzyskany w postaci osobnego pliku tekstowego. Wszystkie te pliki połączyłem do jednego pliku (kodowanie utf-8) za pomocą poniższego kodu:\n"
   ]
  },
  {
   "cell_type": "code",
   "execution_count": null,
   "metadata": {
    "id": "IqdTvsWoeUgR"
   },
   "outputs": [],
   "source": [
    "%%writefile combine.py\n",
    "\n",
    "import glob\n",
    "\n",
    "read_files = glob.glob(\"*.txt\")\n",
    "total_len = len(read_files)\n",
    "\n",
    "count = 1\n",
    "with open(\"__result.txt\", \"wb\") as outfile:\n",
    "    for f in read_files:\n",
    "        with open(f, \"rb\") as infile:\n",
    "            outfile.write(infile.read())\n",
    "            print(f'{count}/{total_len}')\n",
    "            count +=1"
   ]
  },
  {
   "cell_type": "markdown",
   "metadata": {
    "id": "jEpSVKjWetvp"
   },
   "source": [
    "Plik `combine.py` umieściłem i uruchomiłem w folderze z plikami txt, aby je połączyć. Utworzyłem dodatkowo prosty plik tekstowy `alphabet_pl.txt` z możliwymi polskimi znakami (same małe litery) `abcdefghijklmnoprstuwyząćęłńóśżź`. Za pomocą skryptu `combine.py` w sumie utworzyłem dwa pliki `__result.txt` (nowele) i `__result_dumps.txt` (dump z polskiego internetu)."
   ]
  },
  {
   "cell_type": "markdown",
   "metadata": {
    "id": "_xyk3mspfqMF"
   },
   "source": [
    "Github https://github.com/bakwc/JamSpell zawiera instrukcję jak sklonować i utworzyć JamSpell.\n",
    "Moja rada: używać tutaj bezwzględnie Linuxa! Pod Windowsem mimo zainstalowanego MinGW i ustawionych ścieżek w zmiennych systemowych, cały czas pojawiały się problemy, najpierw z nmake, potem z cmake, których już oficjalnie nie można nigdzie ściągnąć i należałoby doinstalować jakieć kilka GB pakietów z Visual Studio, żeby tylko dostać jeden plik nmake.exe i to też bez gwarancji, że coś się nie wykrzaczy po drodze. \n",
    "Ostatecznie przeczuciłem się na Ubuntu i build JamSpell poszedł bez problemów.\n",
    "Pliki `__result.txt`, `__result_dumps.txt` i `alphabet_pl.txt` umieściłem w katalogu `test_data` JamSpella."
   ]
  },
  {
   "cell_type": "markdown",
   "metadata": {
    "id": "dveicoN3htsp"
   },
   "source": [
    "Po zbudowaniu JamSpell i wejściu do katalogu build, słowniki utworzyłem za pomocą poleceń:\n",
    "\n",
    "` ./main/jamspell train ../test_data/alphabet_pl.txt ../test_data/__result.txt spell_polish_novels.bin `\n",
    "\n",
    "oraz\n",
    "\n",
    "` ./main/jamspell train ../test_data/alphabet_pl.txt ../test_data/__result_dumps.txt spell_polish_dumps.bin `\n"
   ]
  },
  {
   "cell_type": "markdown",
   "metadata": {
    "id": "2jDp6Cj6iW36"
   },
   "source": [
    "Mając już utworzone dwa pliki `.bin` używam ich do sprawdzenia polskiej pisowni dla naszego zbioru. Sprawdzenie pisowni wykonuję na Colabie."
   ]
  },
  {
   "cell_type": "code",
   "execution_count": null,
   "metadata": {
    "id": "-aY_8BO-HUz9"
   },
   "outputs": [],
   "source": [
    "# upload potrzebnych plików na Colaba\n",
    "from google.colab import files\n",
    "uploaded = files.upload()"
   ]
  },
  {
   "cell_type": "code",
   "execution_count": null,
   "metadata": {
    "id": "gj5-nQ2RWCID"
   },
   "outputs": [],
   "source": [
    "# swig jest wymagane dla Jamspell\n",
    "!sudo apt-get install swig"
   ]
  },
  {
   "cell_type": "code",
   "execution_count": null,
   "metadata": {
    "id": "WImlLWmYWo3y"
   },
   "outputs": [],
   "source": [
    "# Instalacja Jamspell\n",
    "!sudo pip install jamspell"
   ]
  },
  {
   "cell_type": "code",
   "execution_count": null,
   "metadata": {
    "id": "PCmgR_QXYOMS"
   },
   "outputs": [],
   "source": [
    "# Upgrade tables, bez tego nie otworzę i nie zapiszę formatu HDF (zwróci błąd)\n",
    "pip install --upgrade tables"
   ]
  },
  {
   "cell_type": "code",
   "execution_count": 8,
   "metadata": {
    "id": "Aq8a7e0_YV1y"
   },
   "outputs": [],
   "source": [
    "# Załadowanie bibliotek\n",
    "import pandas as pd\n",
    "import jamspell"
   ]
  },
  {
   "cell_type": "code",
   "execution_count": 9,
   "metadata": {
    "id": "HP8ew2adWsU2"
   },
   "outputs": [],
   "source": [
    "# Załadowanie zbioru\n",
    "df = pd.read_hdf('./outputs/budzety_spellchecked.h5')"
   ]
  },
  {
   "cell_type": "code",
   "execution_count": 13,
   "metadata": {
    "colab": {
     "base_uri": "https://localhost:8080/",
     "height": 363
    },
    "id": "CXwPTrnAYfeZ",
    "outputId": "92d596e1-967d-413a-d213-808a87e43b0f"
   },
   "outputs": [
    {
     "data": {
      "text/html": [
       "\n",
       "  <div id=\"df-65c8bbdf-6975-4ecc-be28-949ba2cac436\">\n",
       "    <div class=\"colab-df-container\">\n",
       "      <div>\n",
       "<style scoped>\n",
       "    .dataframe tbody tr th:only-of-type {\n",
       "        vertical-align: middle;\n",
       "    }\n",
       "\n",
       "    .dataframe tbody tr th {\n",
       "        vertical-align: top;\n",
       "    }\n",
       "\n",
       "    .dataframe thead th {\n",
       "        text-align: right;\n",
       "    }\n",
       "</style>\n",
       "<table border=\"1\" class=\"dataframe\">\n",
       "  <thead>\n",
       "    <tr style=\"text-align: right;\">\n",
       "      <th></th>\n",
       "      <th>nazwa</th>\n",
       "      <th>correct_Speller</th>\n",
       "    </tr>\n",
       "  </thead>\n",
       "  <tbody>\n",
       "    <tr>\n",
       "      <th>7032</th>\n",
       "      <td>OSWIETLAMY NOWY KONIN OSWIETLENIE PARKINGU POM...</td>\n",
       "      <td>OSWIETLAMY OW ONI OSWIETLENIE PARKINGU POMIEDZ...</td>\n",
       "    </tr>\n",
       "    <tr>\n",
       "      <th>4131</th>\n",
       "      <td>L16/15/VI - 100-lecie klubu NAPRZÓD JANÓW - ws...</td>\n",
       "      <td>L16/15/VI - 100-lecie klubu NARÓD JAN - wspóln...</td>\n",
       "    </tr>\n",
       "    <tr>\n",
       "      <th>2085</th>\n",
       "      <td>21. Ustawienie sprzętu sportowego na placu zab...</td>\n",
       "      <td>21. Ustawienie sprzętu sportowego na placu zab...</td>\n",
       "    </tr>\n",
       "    <tr>\n",
       "      <th>22122</th>\n",
       "      <td>Spotkania z muzyką klasyczną</td>\n",
       "      <td>Spotkania z muzyką klasyczną</td>\n",
       "    </tr>\n",
       "    <tr>\n",
       "      <th>2952</th>\n",
       "      <td>Droga na Pogorię</td>\n",
       "      <td>Droga na Pogoria</td>\n",
       "    </tr>\n",
       "    <tr>\n",
       "      <th>21618</th>\n",
       "      <td>Joga, taniec, medytacja, w otwartych przestrze...</td>\n",
       "      <td>Joga, taniec, medytacja, w otwartych przestrze...</td>\n",
       "    </tr>\n",
       "    <tr>\n",
       "      <th>12902</th>\n",
       "      <td>Porządkowanie osiedlowej przestrzeni - budowa ...</td>\n",
       "      <td>Porządkowanie osiedlowej przestrzeni - budowa ...</td>\n",
       "    </tr>\n",
       "    <tr>\n",
       "      <th>23494</th>\n",
       "      <td>Park tokietka</td>\n",
       "      <td>Park lokietka</td>\n",
       "    </tr>\n",
       "    <tr>\n",
       "      <th>19215</th>\n",
       "      <td>Gocławskie Centrum Tańca</td>\n",
       "      <td>Wrocławskie Centrum Tańca</td>\n",
       "    </tr>\n",
       "    <tr>\n",
       "      <th>6419</th>\n",
       "      <td>152. Energia dla Olsztyna</td>\n",
       "      <td>152. Energia dla Olsztyna</td>\n",
       "    </tr>\n",
       "  </tbody>\n",
       "</table>\n",
       "</div>\n",
       "      <button class=\"colab-df-convert\" onclick=\"convertToInteractive('df-65c8bbdf-6975-4ecc-be28-949ba2cac436')\"\n",
       "              title=\"Convert this dataframe to an interactive table.\"\n",
       "              style=\"display:none;\">\n",
       "        \n",
       "  <svg xmlns=\"http://www.w3.org/2000/svg\" height=\"24px\"viewBox=\"0 0 24 24\"\n",
       "       width=\"24px\">\n",
       "    <path d=\"M0 0h24v24H0V0z\" fill=\"none\"/>\n",
       "    <path d=\"M18.56 5.44l.94 2.06.94-2.06 2.06-.94-2.06-.94-.94-2.06-.94 2.06-2.06.94zm-11 1L8.5 8.5l.94-2.06 2.06-.94-2.06-.94L8.5 2.5l-.94 2.06-2.06.94zm10 10l.94 2.06.94-2.06 2.06-.94-2.06-.94-.94-2.06-.94 2.06-2.06.94z\"/><path d=\"M17.41 7.96l-1.37-1.37c-.4-.4-.92-.59-1.43-.59-.52 0-1.04.2-1.43.59L10.3 9.45l-7.72 7.72c-.78.78-.78 2.05 0 2.83L4 21.41c.39.39.9.59 1.41.59.51 0 1.02-.2 1.41-.59l7.78-7.78 2.81-2.81c.8-.78.8-2.07 0-2.86zM5.41 20L4 18.59l7.72-7.72 1.47 1.35L5.41 20z\"/>\n",
       "  </svg>\n",
       "      </button>\n",
       "      \n",
       "  <style>\n",
       "    .colab-df-container {\n",
       "      display:flex;\n",
       "      flex-wrap:wrap;\n",
       "      gap: 12px;\n",
       "    }\n",
       "\n",
       "    .colab-df-convert {\n",
       "      background-color: #E8F0FE;\n",
       "      border: none;\n",
       "      border-radius: 50%;\n",
       "      cursor: pointer;\n",
       "      display: none;\n",
       "      fill: #1967D2;\n",
       "      height: 32px;\n",
       "      padding: 0 0 0 0;\n",
       "      width: 32px;\n",
       "    }\n",
       "\n",
       "    .colab-df-convert:hover {\n",
       "      background-color: #E2EBFA;\n",
       "      box-shadow: 0px 1px 2px rgba(60, 64, 67, 0.3), 0px 1px 3px 1px rgba(60, 64, 67, 0.15);\n",
       "      fill: #174EA6;\n",
       "    }\n",
       "\n",
       "    [theme=dark] .colab-df-convert {\n",
       "      background-color: #3B4455;\n",
       "      fill: #D2E3FC;\n",
       "    }\n",
       "\n",
       "    [theme=dark] .colab-df-convert:hover {\n",
       "      background-color: #434B5C;\n",
       "      box-shadow: 0px 1px 3px 1px rgba(0, 0, 0, 0.15);\n",
       "      filter: drop-shadow(0px 1px 2px rgba(0, 0, 0, 0.3));\n",
       "      fill: #FFFFFF;\n",
       "    }\n",
       "  </style>\n",
       "\n",
       "      <script>\n",
       "        const buttonEl =\n",
       "          document.querySelector('#df-65c8bbdf-6975-4ecc-be28-949ba2cac436 button.colab-df-convert');\n",
       "        buttonEl.style.display =\n",
       "          google.colab.kernel.accessAllowed ? 'block' : 'none';\n",
       "\n",
       "        async function convertToInteractive(key) {\n",
       "          const element = document.querySelector('#df-65c8bbdf-6975-4ecc-be28-949ba2cac436');\n",
       "          const dataTable =\n",
       "            await google.colab.kernel.invokeFunction('convertToInteractive',\n",
       "                                                     [key], {});\n",
       "          if (!dataTable) return;\n",
       "\n",
       "          const docLinkHtml = 'Like what you see? Visit the ' +\n",
       "            '<a target=\"_blank\" href=https://colab.research.google.com/notebooks/data_table.ipynb>data table notebook</a>'\n",
       "            + ' to learn more about interactive tables.';\n",
       "          element.innerHTML = '';\n",
       "          dataTable['output_type'] = 'display_data';\n",
       "          await google.colab.output.renderOutput(dataTable, element);\n",
       "          const docLink = document.createElement('div');\n",
       "          docLink.innerHTML = docLinkHtml;\n",
       "          element.appendChild(docLink);\n",
       "        }\n",
       "      </script>\n",
       "    </div>\n",
       "  </div>\n",
       "  "
      ],
      "text/plain": [
       "                                                   nazwa                                    correct_Speller\n",
       "7032   OSWIETLAMY NOWY KONIN OSWIETLENIE PARKINGU POM...  OSWIETLAMY OW ONI OSWIETLENIE PARKINGU POMIEDZ...\n",
       "4131   L16/15/VI - 100-lecie klubu NAPRZÓD JANÓW - ws...  L16/15/VI - 100-lecie klubu NARÓD JAN - wspóln...\n",
       "2085   21. Ustawienie sprzętu sportowego na placu zab...  21. Ustawienie sprzętu sportowego na placu zab...\n",
       "22122                       Spotkania z muzyką klasyczną                       Spotkania z muzyką klasyczną\n",
       "2952                                    Droga na Pogorię                                   Droga na Pogoria\n",
       "21618  Joga, taniec, medytacja, w otwartych przestrze...  Joga, taniec, medytacja, w otwartych przestrze...\n",
       "12902  Porządkowanie osiedlowej przestrzeni - budowa ...  Porządkowanie osiedlowej przestrzeni - budowa ...\n",
       "23494                                      Park tokietka                                      Park lokietka\n",
       "19215                           Gocławskie Centrum Tańca                          Wrocławskie Centrum Tańca\n",
       "6419                           152. Energia dla Olsztyna                          152. Energia dla Olsztyna"
      ]
     },
     "execution_count": 13,
     "metadata": {},
     "output_type": "execute_result"
    }
   ],
   "source": [
    "# 10 losowych pozycji\n",
    "df.sample(10)"
   ]
  },
  {
   "cell_type": "code",
   "execution_count": 14,
   "metadata": {
    "id": "UI13j8giWyjf"
   },
   "outputs": [],
   "source": [
    "# Najpierw zabieramy się za dump z polskiego internetu\n",
    "jsp = jamspell.TSpellCorrector()\n",
    "assert jsp.LoadLangModel('./models/spell_polish_dumps.bin')"
   ]
  },
  {
   "cell_type": "code",
   "execution_count": 19,
   "metadata": {
    "colab": {
     "base_uri": "https://localhost:8080/",
     "height": 35
    },
    "id": "--JWXyt4W-RE",
    "outputId": "caff8e0e-ddfc-4d89-cb3e-9d9b98cfbadb"
   },
   "outputs": [
    {
     "data": {
      "application/vnd.google.colaboratory.intrinsic+json": {
       "type": "string"
      },
      "text/plain": [
       "'To jest źle napisane tłumaczenie'"
      ]
     },
     "execution_count": 19,
     "metadata": {},
     "output_type": "execute_result"
    }
   ],
   "source": [
    "# Sprawdzamy czy działa\n",
    "jsp.FixFragment('To jes źlle napisane ttumaczenie')"
   ]
  },
  {
   "cell_type": "code",
   "execution_count": 20,
   "metadata": {
    "id": "xFJnOTCkY9_4"
   },
   "outputs": [],
   "source": [
    "# Uruchamiany sprawdzanie pisowni dla naszego zbioru\n",
    "df['correct_jamspell_dumps'] = df['nazwa'].apply(jsp.FixFragment)"
   ]
  },
  {
   "cell_type": "code",
   "execution_count": 21,
   "metadata": {
    "colab": {
     "base_uri": "https://localhost:8080/",
     "height": 424
    },
    "id": "zTrNQ9WOZTcX",
    "outputId": "cfeb5c83-2d0a-434f-f345-2354629d3521"
   },
   "outputs": [
    {
     "data": {
      "text/html": [
       "\n",
       "  <div id=\"df-ce2534ab-9095-4c2c-a85e-6d7d1f916058\">\n",
       "    <div class=\"colab-df-container\">\n",
       "      <div>\n",
       "<style scoped>\n",
       "    .dataframe tbody tr th:only-of-type {\n",
       "        vertical-align: middle;\n",
       "    }\n",
       "\n",
       "    .dataframe tbody tr th {\n",
       "        vertical-align: top;\n",
       "    }\n",
       "\n",
       "    .dataframe thead th {\n",
       "        text-align: right;\n",
       "    }\n",
       "</style>\n",
       "<table border=\"1\" class=\"dataframe\">\n",
       "  <thead>\n",
       "    <tr style=\"text-align: right;\">\n",
       "      <th></th>\n",
       "      <th>nazwa</th>\n",
       "      <th>correct_Speller</th>\n",
       "      <th>correct_jamspell_dumps</th>\n",
       "    </tr>\n",
       "  </thead>\n",
       "  <tbody>\n",
       "    <tr>\n",
       "      <th>0</th>\n",
       "      <td>Projektistatus</td>\n",
       "      <td>Projektistatus</td>\n",
       "      <td>Projektistatus</td>\n",
       "    </tr>\n",
       "    <tr>\n",
       "      <th>1</th>\n",
       "      <td>Doposażenie parku pomiędzy Estakadą Kwiatkowsk...</td>\n",
       "      <td>Doposażenie parku pomiędzy Estakadą Kwiatkowsk...</td>\n",
       "      <td>Doposażenie parku pomiędzy Estakadą Kwiatkowsk...</td>\n",
       "    </tr>\n",
       "    <tr>\n",
       "      <th>2</th>\n",
       "      <td>Cykliczne warsztaty dla seniorów z dzielnicy O...</td>\n",
       "      <td>Cykliczne warsztaty dla seniorów z dzielnicy O...</td>\n",
       "      <td>Cykliczne warsztaty dla seniorów z dzielnicy O...</td>\n",
       "    </tr>\n",
       "    <tr>\n",
       "      <th>3</th>\n",
       "      <td>Ogród Sąsiedzki przy Dzikim Sadzie, ul. Źródlana</td>\n",
       "      <td>Ogród Sąsiedzki przy Dzikim Sadzie, ul. Źródlana</td>\n",
       "      <td>Ogród Sąsiedzki przy Dzikim Sadzie, ul. Źródlana</td>\n",
       "    </tr>\n",
       "    <tr>\n",
       "      <th>4</th>\n",
       "      <td>Montaż słupów oświetleniowych na chodniku przy...</td>\n",
       "      <td>Montaż słupów oświetleniowych na chodniku przy...</td>\n",
       "      <td>Montaż słupów oświetleniowych na chodniku przy...</td>\n",
       "    </tr>\n",
       "    <tr>\n",
       "      <th>...</th>\n",
       "      <td>...</td>\n",
       "      <td>...</td>\n",
       "      <td>...</td>\n",
       "    </tr>\n",
       "    <tr>\n",
       "      <th>23687</th>\n",
       "      <td>Zielony skwer na Zabtociu</td>\n",
       "      <td>Zielony skwer na Zabłociu</td>\n",
       "      <td>Zielony skwer na Zabłociu</td>\n",
       "    </tr>\n",
       "    <tr>\n",
       "      <th>23688</th>\n",
       "      <td>Znani Biatopradniczanie dla Mieszkanców</td>\n",
       "      <td>Znani Biatopradniczanie dla Mieszkańców</td>\n",
       "      <td>Znani Biatopradniczanie dla Mieszkanców</td>\n",
       "    </tr>\n",
       "    <tr>\n",
       "      <th>23690</th>\n",
       "      <td>ZRÓBMY SKWER PRZY FABRYCZNEJ! Edukacja i kultu...</td>\n",
       "      <td>ZRÓB WER RZ FABRYCZNEJ! Edukacja i kultura w z...</td>\n",
       "      <td>ZRÓBMY SKWER PRZY FABRYCZNEJ! Edukacja i kultu...</td>\n",
       "    </tr>\n",
       "    <tr>\n",
       "      <th>23691</th>\n",
       "      <td>Zróbmy sobie Park</td>\n",
       "      <td>Zróbmy sobie Park</td>\n",
       "      <td>Zróbmy sobie Park</td>\n",
       "    </tr>\n",
       "    <tr>\n",
       "      <th>23692</th>\n",
       "      <td>ZUMBA DLA DZIECI</td>\n",
       "      <td>MBA LA DZIECI</td>\n",
       "      <td>ZUMBA DLA DZIECI</td>\n",
       "    </tr>\n",
       "  </tbody>\n",
       "</table>\n",
       "<p>23030 rows × 3 columns</p>\n",
       "</div>\n",
       "      <button class=\"colab-df-convert\" onclick=\"convertToInteractive('df-ce2534ab-9095-4c2c-a85e-6d7d1f916058')\"\n",
       "              title=\"Convert this dataframe to an interactive table.\"\n",
       "              style=\"display:none;\">\n",
       "        \n",
       "  <svg xmlns=\"http://www.w3.org/2000/svg\" height=\"24px\"viewBox=\"0 0 24 24\"\n",
       "       width=\"24px\">\n",
       "    <path d=\"M0 0h24v24H0V0z\" fill=\"none\"/>\n",
       "    <path d=\"M18.56 5.44l.94 2.06.94-2.06 2.06-.94-2.06-.94-.94-2.06-.94 2.06-2.06.94zm-11 1L8.5 8.5l.94-2.06 2.06-.94-2.06-.94L8.5 2.5l-.94 2.06-2.06.94zm10 10l.94 2.06.94-2.06 2.06-.94-2.06-.94-.94-2.06-.94 2.06-2.06.94z\"/><path d=\"M17.41 7.96l-1.37-1.37c-.4-.4-.92-.59-1.43-.59-.52 0-1.04.2-1.43.59L10.3 9.45l-7.72 7.72c-.78.78-.78 2.05 0 2.83L4 21.41c.39.39.9.59 1.41.59.51 0 1.02-.2 1.41-.59l7.78-7.78 2.81-2.81c.8-.78.8-2.07 0-2.86zM5.41 20L4 18.59l7.72-7.72 1.47 1.35L5.41 20z\"/>\n",
       "  </svg>\n",
       "      </button>\n",
       "      \n",
       "  <style>\n",
       "    .colab-df-container {\n",
       "      display:flex;\n",
       "      flex-wrap:wrap;\n",
       "      gap: 12px;\n",
       "    }\n",
       "\n",
       "    .colab-df-convert {\n",
       "      background-color: #E8F0FE;\n",
       "      border: none;\n",
       "      border-radius: 50%;\n",
       "      cursor: pointer;\n",
       "      display: none;\n",
       "      fill: #1967D2;\n",
       "      height: 32px;\n",
       "      padding: 0 0 0 0;\n",
       "      width: 32px;\n",
       "    }\n",
       "\n",
       "    .colab-df-convert:hover {\n",
       "      background-color: #E2EBFA;\n",
       "      box-shadow: 0px 1px 2px rgba(60, 64, 67, 0.3), 0px 1px 3px 1px rgba(60, 64, 67, 0.15);\n",
       "      fill: #174EA6;\n",
       "    }\n",
       "\n",
       "    [theme=dark] .colab-df-convert {\n",
       "      background-color: #3B4455;\n",
       "      fill: #D2E3FC;\n",
       "    }\n",
       "\n",
       "    [theme=dark] .colab-df-convert:hover {\n",
       "      background-color: #434B5C;\n",
       "      box-shadow: 0px 1px 3px 1px rgba(0, 0, 0, 0.15);\n",
       "      filter: drop-shadow(0px 1px 2px rgba(0, 0, 0, 0.3));\n",
       "      fill: #FFFFFF;\n",
       "    }\n",
       "  </style>\n",
       "\n",
       "      <script>\n",
       "        const buttonEl =\n",
       "          document.querySelector('#df-ce2534ab-9095-4c2c-a85e-6d7d1f916058 button.colab-df-convert');\n",
       "        buttonEl.style.display =\n",
       "          google.colab.kernel.accessAllowed ? 'block' : 'none';\n",
       "\n",
       "        async function convertToInteractive(key) {\n",
       "          const element = document.querySelector('#df-ce2534ab-9095-4c2c-a85e-6d7d1f916058');\n",
       "          const dataTable =\n",
       "            await google.colab.kernel.invokeFunction('convertToInteractive',\n",
       "                                                     [key], {});\n",
       "          if (!dataTable) return;\n",
       "\n",
       "          const docLinkHtml = 'Like what you see? Visit the ' +\n",
       "            '<a target=\"_blank\" href=https://colab.research.google.com/notebooks/data_table.ipynb>data table notebook</a>'\n",
       "            + ' to learn more about interactive tables.';\n",
       "          element.innerHTML = '';\n",
       "          dataTable['output_type'] = 'display_data';\n",
       "          await google.colab.output.renderOutput(dataTable, element);\n",
       "          const docLink = document.createElement('div');\n",
       "          docLink.innerHTML = docLinkHtml;\n",
       "          element.appendChild(docLink);\n",
       "        }\n",
       "      </script>\n",
       "    </div>\n",
       "  </div>\n",
       "  "
      ],
      "text/plain": [
       "                                                   nazwa  ...                             correct_jamspell_dumps\n",
       "0                                         Projektistatus  ...                                     Projektistatus\n",
       "1      Doposażenie parku pomiędzy Estakadą Kwiatkowsk...  ...  Doposażenie parku pomiędzy Estakadą Kwiatkowsk...\n",
       "2      Cykliczne warsztaty dla seniorów z dzielnicy O...  ...  Cykliczne warsztaty dla seniorów z dzielnicy O...\n",
       "3       Ogród Sąsiedzki przy Dzikim Sadzie, ul. Źródlana  ...   Ogród Sąsiedzki przy Dzikim Sadzie, ul. Źródlana\n",
       "4      Montaż słupów oświetleniowych na chodniku przy...  ...  Montaż słupów oświetleniowych na chodniku przy...\n",
       "...                                                  ...  ...                                                ...\n",
       "23687                          Zielony skwer na Zabtociu  ...                          Zielony skwer na Zabłociu\n",
       "23688            Znani Biatopradniczanie dla Mieszkanców  ...            Znani Biatopradniczanie dla Mieszkanców\n",
       "23690  ZRÓBMY SKWER PRZY FABRYCZNEJ! Edukacja i kultu...  ...  ZRÓBMY SKWER PRZY FABRYCZNEJ! Edukacja i kultu...\n",
       "23691                                  Zróbmy sobie Park  ...                                  Zróbmy sobie Park\n",
       "23692                                   ZUMBA DLA DZIECI  ...                                   ZUMBA DLA DZIECI\n",
       "\n",
       "[23030 rows x 3 columns]"
      ]
     },
     "execution_count": 21,
     "metadata": {},
     "output_type": "execute_result"
    }
   ],
   "source": [
    "df"
   ]
  },
  {
   "cell_type": "code",
   "execution_count": 24,
   "metadata": {
    "id": "Qo0qT0zYZdtm"
   },
   "outputs": [],
   "source": [
    "# Teraz polskie nowele\n",
    "assert jsp.LoadLangModel('./models/spell_polish_novels.bin')"
   ]
  },
  {
   "cell_type": "code",
   "execution_count": 25,
   "metadata": {
    "id": "WlJDCGm0ZlCM"
   },
   "outputs": [],
   "source": [
    "df['correct_jamspell_novels'] = df['nazwa'].apply(jsp.FixFragment)"
   ]
  },
  {
   "cell_type": "code",
   "execution_count": 38,
   "metadata": {
    "colab": {
     "base_uri": "https://localhost:8080/",
     "height": 773
    },
    "id": "QaLSIeWeaAAH",
    "outputId": "1e526011-f0ca-479a-ebbe-fe0a45656509"
   },
   "outputs": [
    {
     "data": {
      "text/html": [
       "\n",
       "  <div id=\"df-5e873e0b-4c1e-453d-a226-fd1d344cc828\">\n",
       "    <div class=\"colab-df-container\">\n",
       "      <div>\n",
       "<style scoped>\n",
       "    .dataframe tbody tr th:only-of-type {\n",
       "        vertical-align: middle;\n",
       "    }\n",
       "\n",
       "    .dataframe tbody tr th {\n",
       "        vertical-align: top;\n",
       "    }\n",
       "\n",
       "    .dataframe thead th {\n",
       "        text-align: right;\n",
       "    }\n",
       "</style>\n",
       "<table border=\"1\" class=\"dataframe\">\n",
       "  <thead>\n",
       "    <tr style=\"text-align: right;\">\n",
       "      <th></th>\n",
       "      <th>nazwa</th>\n",
       "      <th>correct_Speller</th>\n",
       "      <th>correct_jamspell_dumps</th>\n",
       "      <th>correct_jamspell_novels</th>\n",
       "    </tr>\n",
       "  </thead>\n",
       "  <tbody>\n",
       "    <tr>\n",
       "      <th>14280</th>\n",
       "      <td>MAMY przestrzeń w Parku Poniatowskiego.</td>\n",
       "      <td>AMY przestrzeń w Parku Poniatowskiego.</td>\n",
       "      <td>MAMY przestrzeń w Parku Poniatowskiego.</td>\n",
       "      <td>MAMY przestrzeń w Parku Poniatowskiego.</td>\n",
       "    </tr>\n",
       "    <tr>\n",
       "      <th>14189</th>\n",
       "      <td>Renowacja pomnika \"Macierzyństwo\".</td>\n",
       "      <td>Renowacja pomnika \"Macierzyństwo\".</td>\n",
       "      <td>Renowacja pomnika \"Macierzyństwo\".</td>\n",
       "      <td>Rewelacja pomnika \"Macierzyństwo\".</td>\n",
       "    </tr>\n",
       "    <tr>\n",
       "      <th>22757</th>\n",
       "      <td>Warsztaty śpiewu dla dzieci i dorosłych</td>\n",
       "      <td>Warsztaty śpiewu dla dzieci i dorosłych</td>\n",
       "      <td>Warsztaty śpiewu dla dzieci i dorosłych</td>\n",
       "      <td>Warsztaty śpiewu dla dzieci i dorosłych</td>\n",
       "    </tr>\n",
       "    <tr>\n",
       "      <th>6136</th>\n",
       "      <td>3 Przygotowanie do uzytkowania czerwonego szla...</td>\n",
       "      <td>3 Przygotowanie do uzytkowania czerwonego szla...</td>\n",
       "      <td>3 Przygotowanie do użytkowania czerwonego szla...</td>\n",
       "      <td>3 Przygotowanie do uzytkowania czerwonego szla...</td>\n",
       "    </tr>\n",
       "    <tr>\n",
       "      <th>18343</th>\n",
       "      <td>Linarium – plac zabaw dla młodzieży (ul. Kierz...</td>\n",
       "      <td>Luminarium – plac zabaw dla młodzieży (ul. Kie...</td>\n",
       "      <td>Solarium – plac zabaw dla młodzieży (ul. Kierz...</td>\n",
       "      <td>Delirium – plac zabaw dla młodzieży (ul. Skier...</td>\n",
       "    </tr>\n",
       "    <tr>\n",
       "      <th>14954</th>\n",
       "      <td>Parki przyjazne jeżom, owadom, ptakom...</td>\n",
       "      <td>Parki przyjazne jeżom, owadom, ptakom...</td>\n",
       "      <td>Parki przyjazne jeżom, owadom, ptakom...</td>\n",
       "      <td>Parki przyjazne jenom, owadom, ptakom...</td>\n",
       "    </tr>\n",
       "    <tr>\n",
       "      <th>7559</th>\n",
       "      <td>Samoobsługowe stacje naprawy rowerów</td>\n",
       "      <td>Samoobsługowe stacje naprawy rowerów</td>\n",
       "      <td>Samoobsługowe stacje naprawy rowerów</td>\n",
       "      <td>Samoobsługowe stacje naprawy rowerów</td>\n",
       "    </tr>\n",
       "    <tr>\n",
       "      <th>10897</th>\n",
       "      <td>Tor samochodowych modeli RC</td>\n",
       "      <td>Tor samochodowych modeli RC</td>\n",
       "      <td>Tor samochodowych modeli RC</td>\n",
       "      <td>Tor samochodowych modeli RC</td>\n",
       "    </tr>\n",
       "    <tr>\n",
       "      <th>6313</th>\n",
       "      <td>42. EKO STACJA POJEZIERZE</td>\n",
       "      <td>42. KO TACA POJEZIERZE</td>\n",
       "      <td>42. EKO STACJA POJEZIERZE</td>\n",
       "      <td>42. OKO STACJA POJEZIERZE</td>\n",
       "    </tr>\n",
       "    <tr>\n",
       "      <th>1921</th>\n",
       "      <td>12. Kontynuacja zagospodarowania placu przy ul...</td>\n",
       "      <td>12. Kontynuacja zagospodarowania placu przy ul...</td>\n",
       "      <td>12. Kontynuacja zagospodarowania placu przy ul...</td>\n",
       "      <td>12. Kontynuacja zagospodarowania placu przy ul...</td>\n",
       "    </tr>\n",
       "    <tr>\n",
       "      <th>16229</th>\n",
       "      <td>DOŚĆ DZIUR ‐ WsPóLnIe WYREMONTUJMY Bieńczycką ...</td>\n",
       "      <td>DO DIR ‐ WsPóLnIe WYREMONTUJMY Bieńczycka i Ko...</td>\n",
       "      <td>DOŚĆ DZIUR ‐ WsPóLnIe WYREMONTUJMY Bieńczycką ...</td>\n",
       "      <td>DOŚĆ DZIUR ‐ WsPóLnIe WYREMONTUJMY Bieńczycką ...</td>\n",
       "    </tr>\n",
       "    <tr>\n",
       "      <th>14066</th>\n",
       "      <td>Tężnia Nad Karolewką.</td>\n",
       "      <td>Tężnia Nad Karolewko.</td>\n",
       "      <td>Tężnia Nad Królewską.</td>\n",
       "      <td>Potężna Nad Królewską.</td>\n",
       "    </tr>\n",
       "    <tr>\n",
       "      <th>15157</th>\n",
       "      <td>Koniec z zabłoconym terenem przy ul. Nurta Kas...</td>\n",
       "      <td>Koniec z założonym terenem przy ul. Nurtu Kasz...</td>\n",
       "      <td>Koniec z zabłoconym terenem przy ul. Nurta Kas...</td>\n",
       "      <td>Koniec z zabłoconym terenem przy ul. Nuta Kasz...</td>\n",
       "    </tr>\n",
       "    <tr>\n",
       "      <th>18059</th>\n",
       "      <td>Kreatywny angielski dla rodziców i dzieci raze...</td>\n",
       "      <td>Kreatywny angielski dla rodziców i dzieci raze...</td>\n",
       "      <td>Kreatywny angielski dla rodziców i dzieci raze...</td>\n",
       "      <td>Negatywny angielski dla rodziców i dzieci raze...</td>\n",
       "    </tr>\n",
       "    <tr>\n",
       "      <th>10994</th>\n",
       "      <td>MODERNIZACJA PLACU ZABAW DLA DZIECI Z PRZEDSZK...</td>\n",
       "      <td>MODERNIZACJA LAU ABA LA DZIECI Z PRZEDSZKOLA N...</td>\n",
       "      <td>MODERNIZACJA PLACU ZABAW DLA DZIECI Z PRZEDSZK...</td>\n",
       "      <td>MODERNIZACJA PLACU ZABAW DLA DZIECI Z PRZESZKO...</td>\n",
       "    </tr>\n",
       "    <tr>\n",
       "      <th>9391</th>\n",
       "      <td>Boisko do piłki nożnej Nowe Żerniki</td>\n",
       "      <td>Boisko do piłki nożnej Nowe Żerniki</td>\n",
       "      <td>Boisko do piłki nożnej Nowe Serniki</td>\n",
       "      <td>Boisko do piłki nożnej Nowe Żerniki</td>\n",
       "    </tr>\n",
       "    <tr>\n",
       "      <th>1808</th>\n",
       "      <td>Remont fawek przy rezerwacie Ptasi Raj</td>\n",
       "      <td>Remont dawek przy rezerwacie Ptasi Raj</td>\n",
       "      <td>Remont dawek przy rezerwacie Ptasi Raj</td>\n",
       "      <td>Remont ławek przy rezerwacie Ptasi Raj</td>\n",
       "    </tr>\n",
       "    <tr>\n",
       "      <th>10414</th>\n",
       "      <td>Osiedlowe Centrum Aktywności przy Szkole Podst...</td>\n",
       "      <td>Osiedlowe Centrum Aktywności przy Szkole Podst...</td>\n",
       "      <td>Osiedlowe Centrum Aktywności przy Szkole Podst...</td>\n",
       "      <td>Osiedle Centrum Aktywności przy Szkole Podstaw...</td>\n",
       "    </tr>\n",
       "    <tr>\n",
       "      <th>7134</th>\n",
       "      <td>FANABERIE ZATORZAŃSKIE – remonty zdewastowanyc...</td>\n",
       "      <td>FANABERIE ZATORZAŃSKIE – remonty zdewastowanyc...</td>\n",
       "      <td>FANABERIE TATRZAŃSKIEJ – remonty zdewastowanyc...</td>\n",
       "      <td>FANABERIE TATRZAŃSKIEJ – remonty zdewastowanyc...</td>\n",
       "    </tr>\n",
       "    <tr>\n",
       "      <th>4568</th>\n",
       "      <td>Wymiana lub remont zniszczonego chodnika , nie...</td>\n",
       "      <td>Wymiana lub remont zniszczonego chodnika , nie...</td>\n",
       "      <td>Wymiana lub remont zniszczonego chodnika , nie...</td>\n",
       "      <td>Wymiana lub remont zniszczonego chodnika , nie...</td>\n",
       "    </tr>\n",
       "  </tbody>\n",
       "</table>\n",
       "</div>\n",
       "      <button class=\"colab-df-convert\" onclick=\"convertToInteractive('df-5e873e0b-4c1e-453d-a226-fd1d344cc828')\"\n",
       "              title=\"Convert this dataframe to an interactive table.\"\n",
       "              style=\"display:none;\">\n",
       "        \n",
       "  <svg xmlns=\"http://www.w3.org/2000/svg\" height=\"24px\"viewBox=\"0 0 24 24\"\n",
       "       width=\"24px\">\n",
       "    <path d=\"M0 0h24v24H0V0z\" fill=\"none\"/>\n",
       "    <path d=\"M18.56 5.44l.94 2.06.94-2.06 2.06-.94-2.06-.94-.94-2.06-.94 2.06-2.06.94zm-11 1L8.5 8.5l.94-2.06 2.06-.94-2.06-.94L8.5 2.5l-.94 2.06-2.06.94zm10 10l.94 2.06.94-2.06 2.06-.94-2.06-.94-.94-2.06-.94 2.06-2.06.94z\"/><path d=\"M17.41 7.96l-1.37-1.37c-.4-.4-.92-.59-1.43-.59-.52 0-1.04.2-1.43.59L10.3 9.45l-7.72 7.72c-.78.78-.78 2.05 0 2.83L4 21.41c.39.39.9.59 1.41.59.51 0 1.02-.2 1.41-.59l7.78-7.78 2.81-2.81c.8-.78.8-2.07 0-2.86zM5.41 20L4 18.59l7.72-7.72 1.47 1.35L5.41 20z\"/>\n",
       "  </svg>\n",
       "      </button>\n",
       "      \n",
       "  <style>\n",
       "    .colab-df-container {\n",
       "      display:flex;\n",
       "      flex-wrap:wrap;\n",
       "      gap: 12px;\n",
       "    }\n",
       "\n",
       "    .colab-df-convert {\n",
       "      background-color: #E8F0FE;\n",
       "      border: none;\n",
       "      border-radius: 50%;\n",
       "      cursor: pointer;\n",
       "      display: none;\n",
       "      fill: #1967D2;\n",
       "      height: 32px;\n",
       "      padding: 0 0 0 0;\n",
       "      width: 32px;\n",
       "    }\n",
       "\n",
       "    .colab-df-convert:hover {\n",
       "      background-color: #E2EBFA;\n",
       "      box-shadow: 0px 1px 2px rgba(60, 64, 67, 0.3), 0px 1px 3px 1px rgba(60, 64, 67, 0.15);\n",
       "      fill: #174EA6;\n",
       "    }\n",
       "\n",
       "    [theme=dark] .colab-df-convert {\n",
       "      background-color: #3B4455;\n",
       "      fill: #D2E3FC;\n",
       "    }\n",
       "\n",
       "    [theme=dark] .colab-df-convert:hover {\n",
       "      background-color: #434B5C;\n",
       "      box-shadow: 0px 1px 3px 1px rgba(0, 0, 0, 0.15);\n",
       "      filter: drop-shadow(0px 1px 2px rgba(0, 0, 0, 0.3));\n",
       "      fill: #FFFFFF;\n",
       "    }\n",
       "  </style>\n",
       "\n",
       "      <script>\n",
       "        const buttonEl =\n",
       "          document.querySelector('#df-5e873e0b-4c1e-453d-a226-fd1d344cc828 button.colab-df-convert');\n",
       "        buttonEl.style.display =\n",
       "          google.colab.kernel.accessAllowed ? 'block' : 'none';\n",
       "\n",
       "        async function convertToInteractive(key) {\n",
       "          const element = document.querySelector('#df-5e873e0b-4c1e-453d-a226-fd1d344cc828');\n",
       "          const dataTable =\n",
       "            await google.colab.kernel.invokeFunction('convertToInteractive',\n",
       "                                                     [key], {});\n",
       "          if (!dataTable) return;\n",
       "\n",
       "          const docLinkHtml = 'Like what you see? Visit the ' +\n",
       "            '<a target=\"_blank\" href=https://colab.research.google.com/notebooks/data_table.ipynb>data table notebook</a>'\n",
       "            + ' to learn more about interactive tables.';\n",
       "          element.innerHTML = '';\n",
       "          dataTable['output_type'] = 'display_data';\n",
       "          await google.colab.output.renderOutput(dataTable, element);\n",
       "          const docLink = document.createElement('div');\n",
       "          docLink.innerHTML = docLinkHtml;\n",
       "          element.appendChild(docLink);\n",
       "        }\n",
       "      </script>\n",
       "    </div>\n",
       "  </div>\n",
       "  "
      ],
      "text/plain": [
       "                                                   nazwa  ...                            correct_jamspell_novels\n",
       "14280           MAMY przestrzeń w Parku Poniatowskiego.   ...           MAMY przestrzeń w Parku Poniatowskiego. \n",
       "14189                Renowacja pomnika \"Macierzyństwo\".   ...                Rewelacja pomnika \"Macierzyństwo\". \n",
       "22757            Warsztaty śpiewu dla dzieci i dorosłych  ...            Warsztaty śpiewu dla dzieci i dorosłych\n",
       "6136   3 Przygotowanie do uzytkowania czerwonego szla...  ...  3 Przygotowanie do uzytkowania czerwonego szla...\n",
       "18343  Linarium – plac zabaw dla młodzieży (ul. Kierz...  ...  Delirium – plac zabaw dla młodzieży (ul. Skier...\n",
       "14954           Parki przyjazne jeżom, owadom, ptakom...  ...           Parki przyjazne jenom, owadom, ptakom...\n",
       "7559                Samoobsługowe stacje naprawy rowerów  ...               Samoobsługowe stacje naprawy rowerów\n",
       "10897                       Tor samochodowych modeli RC   ...                       Tor samochodowych modeli RC \n",
       "6313                           42. EKO STACJA POJEZIERZE  ...                          42. OKO STACJA POJEZIERZE\n",
       "1921   12. Kontynuacja zagospodarowania placu przy ul...  ...  12. Kontynuacja zagospodarowania placu przy ul...\n",
       "16229  DOŚĆ DZIUR ‐ WsPóLnIe WYREMONTUJMY Bieńczycką ...  ...  DOŚĆ DZIUR ‐ WsPóLnIe WYREMONTUJMY Bieńczycką ...\n",
       "14066                             Tężnia Nad Karolewką.   ...                            Potężna Nad Królewską. \n",
       "15157  Koniec z zabłoconym terenem przy ul. Nurta Kas...  ...  Koniec z zabłoconym terenem przy ul. Nuta Kasz...\n",
       "18059  Kreatywny angielski dla rodziców i dzieci raze...  ...  Negatywny angielski dla rodziców i dzieci raze...\n",
       "10994  MODERNIZACJA PLACU ZABAW DLA DZIECI Z PRZEDSZK...  ...  MODERNIZACJA PLACU ZABAW DLA DZIECI Z PRZESZKO...\n",
       "9391                 Boisko do piłki nożnej Nowe Żerniki  ...                Boisko do piłki nożnej Nowe Żerniki\n",
       "1808              Remont fawek przy rezerwacie Ptasi Raj  ...             Remont ławek przy rezerwacie Ptasi Raj\n",
       "10414  Osiedlowe Centrum Aktywności przy Szkole Podst...  ...  Osiedle Centrum Aktywności przy Szkole Podstaw...\n",
       "7134   FANABERIE ZATORZAŃSKIE – remonty zdewastowanyc...  ...  FANABERIE TATRZAŃSKIEJ – remonty zdewastowanyc...\n",
       "4568   Wymiana lub remont zniszczonego chodnika , nie...  ...  Wymiana lub remont zniszczonego chodnika , nie...\n",
       "\n",
       "[20 rows x 4 columns]"
      ]
     },
     "execution_count": 38,
     "metadata": {},
     "output_type": "execute_result"
    }
   ],
   "source": [
    "df.sample(20)"
   ]
  },
  {
   "cell_type": "code",
   "execution_count": 30,
   "metadata": {
    "id": "7SczZuHqaS2m"
   },
   "outputs": [],
   "source": [
    "# Zapisuję do pliku do późniejszej analizy\n",
    "df.to_hdf('budzety_spellchecked_JamSpell.h5', key='df')"
   ]
  },
  {
   "cell_type": "code",
   "execution_count": null,
   "metadata": {
    "id": "-Io2iLgRbFDG"
   },
   "outputs": [],
   "source": []
  }
 ],
 "metadata": {
  "colab": {
   "collapsed_sections": [],
   "name": "14.1_spell_checker_JamSpell.ipynb",
   "provenance": []
  },
  "kernelspec": {
   "display_name": "Python 3",
   "language": "python",
   "name": "python3"
  },
  "language_info": {
   "codemirror_mode": {
    "name": "ipython",
    "version": 3
   },
   "file_extension": ".py",
   "mimetype": "text/x-python",
   "name": "python",
   "nbconvert_exporter": "python",
   "pygments_lexer": "ipython3",
   "version": "3.7.5"
  },
  "latex_envs": {
   "LaTeX_envs_menu_present": true,
   "autoclose": false,
   "autocomplete": true,
   "bibliofile": "biblio.bib",
   "cite_by": "apalike",
   "current_citInitial": 1,
   "eqLabelWithNumbers": true,
   "eqNumInitial": 1,
   "hotkeys": {
    "equation": "Ctrl-E",
    "itemize": "Ctrl-I"
   },
   "labels_anchors": false,
   "latex_user_defs": false,
   "report_style_numbering": false,
   "user_envs_cfg": false
  },
  "varInspector": {
   "cols": {
    "lenName": 16,
    "lenType": 16,
    "lenVar": 40
   },
   "kernels_config": {
    "python": {
     "delete_cmd_postfix": "",
     "delete_cmd_prefix": "del ",
     "library": "var_list.py",
     "varRefreshCmd": "print(var_dic_list())"
    },
    "r": {
     "delete_cmd_postfix": ") ",
     "delete_cmd_prefix": "rm(",
     "library": "var_list.r",
     "varRefreshCmd": "cat(var_dic_list()) "
    }
   },
   "types_to_exclude": [
    "module",
    "function",
    "builtin_function_or_method",
    "instance",
    "_Feature"
   ],
   "window_display": false
  }
 },
 "nbformat": 4,
 "nbformat_minor": 1
}
