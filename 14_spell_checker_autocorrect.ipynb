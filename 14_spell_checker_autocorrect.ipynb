{
 "cells": [
  {
   "cell_type": "code",
   "execution_count": null,
   "metadata": {},
   "outputs": [],
   "source": [
    "import pandas as pd\n",
    "import matplotlib.pyplot as plt\n",
    "from autocorrect import Speller"
   ]
  },
  {
   "cell_type": "code",
   "execution_count": 4,
   "metadata": {},
   "outputs": [],
   "source": [
    "df = pd.read_hdf('./outputs/budzety_clean.h5')"
   ]
  },
  {
   "cell_type": "code",
   "execution_count": 5,
   "metadata": {},
   "outputs": [
    {
     "name": "stderr",
     "output_type": "stream",
     "text": [
      "C:\\Users\\mariu\\AppData\\Local\\Programs\\Python\\Python37\\lib\\site-packages\\ipykernel_launcher.py:1: FutureWarning: Passing a negative integer is deprecated in version 1.0 and will not be supported in future version. Instead, use None to not limit the column width.\n",
      "  \"\"\"Entry point for launching an IPython kernel.\n"
     ]
    }
   ],
   "source": [
    "pd.set_option('max_colwidth', -1)"
   ]
  },
  {
   "cell_type": "code",
   "execution_count": 6,
   "metadata": {},
   "outputs": [
    {
     "data": {
      "text/plain": [
       "4150     L18/06/VI - Bezpieczne Murcki - zatozenie systemu monitoringu miejskiego W Murckach, zakup i montaz kamer - 2 sztuk\n",
       "10004    Remont parkingu przy  bloku ul. Połczyńskiej 2.  Ostatni remont 44 lata temu.                                      \n",
       "11409    Przebudowa nawierzchni płyty boiska, wykonanie przyłącza energetycznego do zasilania imprez okolicznościowych      \n",
       "23442    Nasadzenia krzewów, kwiatów na terenach zielonych dzielnicy                                                        \n",
       "12231    Remont szklarni.                                                                                                   \n",
       "6193     66. Czyste powietrze nad Olsztynem                                                                                 \n",
       "2132     30. Licznik długu publicznego Polski – aktywna tablica informacyjna                                                \n",
       "9248     Zieleń dla Różanki – nowe drzewa, krzewy, ławki.                                                                   \n",
       "7171     ,Aktywne Zaborowo\" - wspólna przestrzen miejska dla dzieci, mlodziezy, doroslych i seniorów.                       \n",
       "18619    Reksio - wybieg dla psów                                                                                           \n",
       "Name: nazwa, dtype: object"
      ]
     },
     "execution_count": 6,
     "metadata": {},
     "output_type": "execute_result"
    }
   ],
   "source": [
    "df['nazwa'].sample(10)"
   ]
  },
  {
   "cell_type": "code",
   "execution_count": 7,
   "metadata": {},
   "outputs": [],
   "source": [
    "spell = Speller('pl')"
   ]
  },
  {
   "cell_type": "code",
   "execution_count": 8,
   "metadata": {},
   "outputs": [],
   "source": [
    "df['correct_Speller'] = df['nazwa'].apply(spell)"
   ]
  },
  {
   "cell_type": "code",
   "execution_count": 10,
   "metadata": {},
   "outputs": [
    {
     "data": {
      "text/html": [
       "<div>\n",
       "<style scoped>\n",
       "    .dataframe tbody tr th:only-of-type {\n",
       "        vertical-align: middle;\n",
       "    }\n",
       "\n",
       "    .dataframe tbody tr th {\n",
       "        vertical-align: top;\n",
       "    }\n",
       "\n",
       "    .dataframe thead th {\n",
       "        text-align: right;\n",
       "    }\n",
       "</style>\n",
       "<table border=\"1\" class=\"dataframe\">\n",
       "  <thead>\n",
       "    <tr style=\"text-align: right;\">\n",
       "      <th></th>\n",
       "      <th>nazwa</th>\n",
       "      <th>correct_Speller</th>\n",
       "    </tr>\n",
       "  </thead>\n",
       "  <tbody>\n",
       "    <tr>\n",
       "      <th>0</th>\n",
       "      <td>Projektistatus</td>\n",
       "      <td>Projektistatus</td>\n",
       "    </tr>\n",
       "    <tr>\n",
       "      <th>1</th>\n",
       "      <td>Doposażenie parku pomiędzy Estakadą Kwiatkowskiego a wieżowcami przy ul. Dantyszka 2,4,8 w siłownię zewnętrzną i elementy małej architektury - pergole, bujane ławki itp.</td>\n",
       "      <td>Doposażenie parku pomiędzy Estakadą Kwiatkowskiego a wieżowcami przy ul. Dantyszka 2,4,8 w siłownię zewnętrzną i elementy małej architektury - pergole, bujne ławki itp.</td>\n",
       "    </tr>\n",
       "    <tr>\n",
       "      <th>2</th>\n",
       "      <td>Cykliczne warsztaty dla seniorów z dzielnicy Obłuże rozwijające pamięć i koncentrację</td>\n",
       "      <td>Cykliczne warsztaty dla seniorów z dzielnicy Obłuże rozwijające pamięć i koncentrację</td>\n",
       "    </tr>\n",
       "    <tr>\n",
       "      <th>3</th>\n",
       "      <td>Ogród Sąsiedzki przy Dzikim Sadzie, ul. Źródlana</td>\n",
       "      <td>Ogród Sąsiedzki przy Dzikim Sadzie, ul. Źródlana</td>\n",
       "    </tr>\n",
       "    <tr>\n",
       "      <th>4</th>\n",
       "      <td>Montaż słupów oświetleniowych na chodniku przy ul. Niskiej na odcinku pomiędzy ul. Bohaterów Getta Warszawskiego i Hodowlaną</td>\n",
       "      <td>Montaż słupów oświetleniowych na chodniku przy ul. Niskiej na odcinku pomiędzy ul. Bohaterów Getta Warszawskiego i Hodowlaną</td>\n",
       "    </tr>\n",
       "    <tr>\n",
       "      <th>...</th>\n",
       "      <td>...</td>\n",
       "      <td>...</td>\n",
       "    </tr>\n",
       "    <tr>\n",
       "      <th>23687</th>\n",
       "      <td>Zielony skwer na Zabtociu</td>\n",
       "      <td>Zielony skwer na Zabłociu</td>\n",
       "    </tr>\n",
       "    <tr>\n",
       "      <th>23688</th>\n",
       "      <td>Znani Biatopradniczanie dla Mieszkanców</td>\n",
       "      <td>Znani Biatopradniczanie dla Mieszkańców</td>\n",
       "    </tr>\n",
       "    <tr>\n",
       "      <th>23690</th>\n",
       "      <td>ZRÓBMY SKWER PRZY FABRYCZNEJ! Edukacja i kultura w zieleni</td>\n",
       "      <td>ZRÓB WER RZ FABRYCZNEJ! Edukacja i kultura w zieleni</td>\n",
       "    </tr>\n",
       "    <tr>\n",
       "      <th>23691</th>\n",
       "      <td>Zróbmy sobie Park</td>\n",
       "      <td>Zróbmy sobie Park</td>\n",
       "    </tr>\n",
       "    <tr>\n",
       "      <th>23692</th>\n",
       "      <td>ZUMBA DLA DZIECI</td>\n",
       "      <td>MBA LA DZIECI</td>\n",
       "    </tr>\n",
       "  </tbody>\n",
       "</table>\n",
       "<p>23030 rows × 2 columns</p>\n",
       "</div>"
      ],
      "text/plain": [
       "                                                                                                                                                                           nazwa  \\\n",
       "0      Projektistatus                                                                                                                                                              \n",
       "1      Doposażenie parku pomiędzy Estakadą Kwiatkowskiego a wieżowcami przy ul. Dantyszka 2,4,8 w siłownię zewnętrzną i elementy małej architektury - pergole, bujane ławki itp.   \n",
       "2      Cykliczne warsztaty dla seniorów z dzielnicy Obłuże rozwijające pamięć i koncentrację                                                                                       \n",
       "3      Ogród Sąsiedzki przy Dzikim Sadzie, ul. Źródlana                                                                                                                            \n",
       "4      Montaż słupów oświetleniowych na chodniku przy ul. Niskiej na odcinku pomiędzy ul. Bohaterów Getta Warszawskiego i Hodowlaną                                                \n",
       "...                                                                                                                             ...                                                \n",
       "23687  Zielony skwer na Zabtociu                                                                                                                                                   \n",
       "23688  Znani Biatopradniczanie dla Mieszkanców                                                                                                                                     \n",
       "23690  ZRÓBMY SKWER PRZY FABRYCZNEJ! Edukacja i kultura w zieleni                                                                                                                  \n",
       "23691  Zróbmy sobie Park                                                                                                                                                           \n",
       "23692  ZUMBA DLA DZIECI                                                                                                                                                            \n",
       "\n",
       "                                                                                                                                                                correct_Speller  \n",
       "0      Projektistatus                                                                                                                                                            \n",
       "1      Doposażenie parku pomiędzy Estakadą Kwiatkowskiego a wieżowcami przy ul. Dantyszka 2,4,8 w siłownię zewnętrzną i elementy małej architektury - pergole, bujne ławki itp.  \n",
       "2      Cykliczne warsztaty dla seniorów z dzielnicy Obłuże rozwijające pamięć i koncentrację                                                                                     \n",
       "3      Ogród Sąsiedzki przy Dzikim Sadzie, ul. Źródlana                                                                                                                          \n",
       "4      Montaż słupów oświetleniowych na chodniku przy ul. Niskiej na odcinku pomiędzy ul. Bohaterów Getta Warszawskiego i Hodowlaną                                              \n",
       "...                                                                                                                             ...                                              \n",
       "23687  Zielony skwer na Zabłociu                                                                                                                                                 \n",
       "23688  Znani Biatopradniczanie dla Mieszkańców                                                                                                                                   \n",
       "23690  ZRÓB WER RZ FABRYCZNEJ! Edukacja i kultura w zieleni                                                                                                                      \n",
       "23691  Zróbmy sobie Park                                                                                                                                                         \n",
       "23692  MBA LA DZIECI                                                                                                                                                             \n",
       "\n",
       "[23030 rows x 2 columns]"
      ]
     },
     "execution_count": 10,
     "metadata": {},
     "output_type": "execute_result"
    }
   ],
   "source": [
    "df[['nazwa', 'correct_Speller']]"
   ]
  },
  {
   "cell_type": "code",
   "execution_count": 13,
   "metadata": {},
   "outputs": [],
   "source": [
    "df[['nazwa', 'correct_Speller']].to_hdf('./outputs/budzety_spellchecked.h5', key='df')"
   ]
  },
  {
   "cell_type": "code",
   "execution_count": null,
   "metadata": {},
   "outputs": [],
   "source": []
  }
 ],
 "metadata": {
  "interpreter": {
   "hash": "423b8b96d4e1ec477b5c8920e05a523372dc7245eb6302a2ca5de114e24c04c2"
  },
  "kernelspec": {
   "display_name": "Python 3.7.5 64-bit",
   "language": "python",
   "name": "python3"
  },
  "language_info": {
   "codemirror_mode": {
    "name": "ipython",
    "version": 3
   },
   "file_extension": ".py",
   "mimetype": "text/x-python",
   "name": "python",
   "nbconvert_exporter": "python",
   "pygments_lexer": "ipython3",
   "version": "3.7.5"
  },
  "orig_nbformat": 4
 },
 "nbformat": 4,
 "nbformat_minor": 2
}
